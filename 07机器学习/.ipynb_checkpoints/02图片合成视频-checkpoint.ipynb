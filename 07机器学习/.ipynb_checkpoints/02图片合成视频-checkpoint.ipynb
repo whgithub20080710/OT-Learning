{
 "cells": [
  {
   "cell_type": "code",
   "execution_count": 6,
   "metadata": {},
   "outputs": [
    {
     "name": "stdout",
     "output_type": "stream",
     "text": [
      "(544, 960)\n",
      "end!\n"
     ]
    }
   ],
   "source": [
    "import cv2\n",
    "img = cv2.imread('image1.jpg')\n",
    "imgInfo = img.shape\n",
    "size = (imgInfo[1],imgInfo[0])\n",
    "print(size)\n",
    "# 写入对象创建 1 文件名 2 编码器 3 帧率 4 视频大小\n",
    "videoWrite = cv2.VideoWriter('2.mp4',-1,5,size)\n",
    "for i in range(1,11):\n",
    "    fileName = 'image' + str(i) + '.jpg'\n",
    "    img = cv2.imread(fileName)\n",
    "    videoWrite.write(img)# 写入方法 1 jpg data\n",
    "    videoWrite.release()\n",
    "print('end!')"
   ]
  },
  {
   "cell_type": "code",
   "execution_count": null,
   "metadata": {},
   "outputs": [],
   "source": []
  }
 ],
 "metadata": {
  "kernelspec": {
   "display_name": "Python 3",
   "language": "python",
   "name": "python3"
  },
  "language_info": {
   "codemirror_mode": {
    "name": "ipython",
    "version": 3
   },
   "file_extension": ".py",
   "mimetype": "text/x-python",
   "name": "python",
   "nbconvert_exporter": "python",
   "pygments_lexer": "ipython3",
   "version": "3.6.6"
  }
 },
 "nbformat": 4,
 "nbformat_minor": 2
}
