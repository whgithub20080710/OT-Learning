{
 "cells": [
  {
   "cell_type": "code",
   "execution_count": 3,
   "metadata": {},
   "outputs": [
    {
     "name": "stdout",
     "output_type": "stream",
     "text": [
      "<built-in method isOpened of cv2.VideoCapture object at 0x000002351802FC30>\n",
      "29.282758689205366 544 960\n",
      "image1.jpg\n",
      "image2.jpg\n",
      "image3.jpg\n",
      "image4.jpg\n",
      "image5.jpg\n",
      "image6.jpg\n",
      "image7.jpg\n",
      "image8.jpg\n",
      "image9.jpg\n",
      "image10.jpg\n",
      "end!\n"
     ]
    }
   ],
   "source": [
    "# 1 load 2 info 3 parse 4imshow imwrite\n",
    "import cv2\n",
    "cap = cv2.VideoCapture(\"1.mp4\") # 打开视频\n",
    "isOpened = cap.isOpened # 判断是否打开\n",
    "print(isOpened)\n",
    "fps = cap.get(cv2.CAP_PROP_FPS) # 帧率\n",
    "width = int(cap.get(cv2.CAP_PROP_FRAME_WIDTH))\n",
    "height = int(cap.get(cv2.CAP_PROP_FRAME_HEIGHT))\n",
    "print(fps,width,height)\n",
    "i = 0\n",
    "while(isOpened):\n",
    "    if i == 10:\n",
    "        break\n",
    "    else:\n",
    "        i = i + 1\n",
    "    (flag,frame) = cap.read()# 读取每一张 flag frame\n",
    "    fileName = 'image' + str(i) + '.jpg'\n",
    "    print(fileName)\n",
    "    if flag == True:\n",
    "        cv2.imwrite(fileName,frame,[cv2.IMWRITE_JPEG_QUALITY,100])\n",
    "print('end!')\n",
    "    "
   ]
  },
  {
   "cell_type": "code",
   "execution_count": null,
   "metadata": {},
   "outputs": [],
   "source": []
  }
 ],
 "metadata": {
  "kernelspec": {
   "display_name": "Python 3",
   "language": "python",
   "name": "python3"
  },
  "language_info": {
   "codemirror_mode": {
    "name": "ipython",
    "version": 3
   },
   "file_extension": ".py",
   "mimetype": "text/x-python",
   "name": "python",
   "nbconvert_exporter": "python",
   "pygments_lexer": "ipython3",
   "version": "3.6.6"
  }
 },
 "nbformat": 4,
 "nbformat_minor": 2
}
