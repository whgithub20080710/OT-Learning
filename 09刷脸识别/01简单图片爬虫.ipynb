{
 "cells": [
  {
   "cell_type": "code",
   "execution_count": 3,
   "metadata": {},
   "outputs": [
    {
     "name": "stdout",
     "output_type": "stream",
     "text": [
      "None\n",
      "None\n",
      "None\n",
      "None\n",
      "None\n",
      "None\n",
      "None\n",
      "None\n",
      "None\n",
      "None\n",
      "None\n",
      "None\n",
      "None\n",
      "https://alioss.gcores.com/uploads/image/c533095c-ddb3-4bcf-b93e-1b20aca0beca_watermark.jpg\n",
      "https://alioss.gcores.com/uploads/image/b68a17a1-4101-4ccd-8c9b-c924e06eea33_watermark.jpg\n",
      "https://alioss.gcores.com/uploads/image/a7664113-4dc1-4c46-b52b-ac071c4a4152_watermark.jpg\n",
      "https://alioss.gcores.com/uploads/image/10d93e12-0b3b-498a-90e6-350cc1bb882b_watermark.jpg\n",
      "https://alioss.gcores.com/uploads/image/d9f4cba7-3916-461f-a0b4-553e37da44a2_watermark.jpg\n",
      "https://alioss.gcores.com/uploads/image/d6414bbc-0d90-4068-a6a9-1bfb0a17544a_watermark.jpg\n",
      "None\n",
      "None\n",
      "None\n",
      "None\n",
      "None\n",
      "None\n",
      "None\n",
      "None\n",
      "None\n",
      "None\n"
     ]
    }
   ],
   "source": [
    "import urllib\n",
    "import urllib3\n",
    "import os\n",
    "from bs4 import BeautifulSoup\n",
    "# load url\n",
    "html = urllib.request.urlopen('https://www.gcores.com/articles/107119').read()\n",
    "# parse url data 1 html 2 'html.paeser' 3 'utf-8'\n",
    "soup = BeautifulSoup(html,'html.parser',from_encoding='utf-8')\n",
    "# img\n",
    "images = soup.findAll('img')\n",
    "#print(images)\n",
    "imageName = 0\n",
    "for image in images:\n",
    "    link = image.get('data-original')\n",
    "    #link = 'http:' + link\n",
    "    print(link)\n",
    "for image in images:\n",
    "    link = image.get('data-original')\n",
    "    if link:\n",
    "        fileSavePath = 'C:\\\\Users\\\\30913\\\\Desktop\\\\OT-Learning\\\\'+str(imageName)+'.jpg'\n",
    "        imageName = imageName + 1\n",
    "        urllib.request.urlretrieve(link,fileSavePath)\n",
    "    #fileFormat = link[-3:]\n",
    "    #if fileFormat == 'png' or fileFormat == 'jpg':\n",
    "        "
   ]
  },
  {
   "cell_type": "code",
   "execution_count": null,
   "metadata": {},
   "outputs": [],
   "source": []
  }
 ],
 "metadata": {
  "kernelspec": {
   "display_name": "Python 3",
   "language": "python",
   "name": "python3"
  },
  "language_info": {
   "codemirror_mode": {
    "name": "ipython",
    "version": 3
   },
   "file_extension": ".py",
   "mimetype": "text/x-python",
   "name": "python",
   "nbconvert_exporter": "python",
   "pygments_lexer": "ipython3",
   "version": "3.6.6"
  }
 },
 "nbformat": 4,
 "nbformat_minor": 2
}
