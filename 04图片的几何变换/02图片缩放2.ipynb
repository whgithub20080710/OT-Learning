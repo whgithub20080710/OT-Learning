{
 "cells": [
  {
   "cell_type": "code",
   "execution_count": null,
   "metadata": {},
   "outputs": [],
   "source": [
    "# 1 info 2 空白模板 3 重新计算xy\n",
    "import cv2\n",
    "import numpy as np\n",
    "img = cv2.imread('sleepdog.jpg',1)\n",
    "imgInfo = img.shape\n",
    "height = imgInfo[0]\n",
    "width = imgInfo[1]\n",
    "dstHeight = int(height / 4)\n",
    "dstWidth = int(width / 4)\n",
    "dstImage = np.zeros((dstHeight,dstWidth,3),np.uint8)#0-255\n",
    "for i in range(0,dstHeight):# 行\n",
    "    for j in range(0,dstWidth): # 列\n",
    "        iNew = int(i * (height * 1.0 / dstHeight))\n",
    "        jNew = int(j * (width * 1.0 / dstWidth))\n",
    "        dstImage[i,j] = img[iNew,jNew]\n",
    "cv2.imshow('dst',dstImage)\n",
    "cv2.waitKey(0)       \n"
   ]
  },
  {
   "cell_type": "code",
   "execution_count": null,
   "metadata": {},
   "outputs": [],
   "source": []
  }
 ],
 "metadata": {
  "kernelspec": {
   "display_name": "Python 3",
   "language": "python",
   "name": "python3"
  },
  "language_info": {
   "codemirror_mode": {
    "name": "ipython",
    "version": 3
   },
   "file_extension": ".py",
   "mimetype": "text/x-python",
   "name": "python",
   "nbconvert_exporter": "python",
   "pygments_lexer": "ipython3",
   "version": "3.6.6"
  }
 },
 "nbformat": 4,
 "nbformat_minor": 2
}
