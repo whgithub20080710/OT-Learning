{
 "cells": [
  {
   "cell_type": "code",
   "execution_count": 2,
   "metadata": {},
   "outputs": [
    {
     "name": "stdout",
     "output_type": "stream",
     "text": [
      "8.0\n",
      "end!\n"
     ]
    }
   ],
   "source": [
    "import tensorflow as tf\n",
    "\n",
    "data1 = tf.placeholder(tf.float32)\n",
    "data2 = tf.placeholder(tf.float32)\n",
    "dataAdd = tf.add(data1,data2)\n",
    "\n",
    "with tf.Session() as sess:\n",
    "    print(sess.run(dataAdd,feed_dict={data1:2,data2:6}))\n",
    "    \n",
    "print('end!')"
   ]
  },
  {
   "cell_type": "code",
   "execution_count": 6,
   "metadata": {},
   "outputs": [
    {
     "name": "stdout",
     "output_type": "stream",
     "text": [
      "(3, 2)\n",
      "[[1 2]\n",
      " [3 4]\n",
      " [5 6]]\n",
      "[1 2]\n",
      "[1 3 5]\n",
      "2\n"
     ]
    }
   ],
   "source": [
    "import tensorflow as tf\n",
    "\n",
    "data1 = tf.constant([[6,7]])\n",
    "data2 = tf.constant([[2],[3]])\n",
    "data3 = tf.constant([[1,2],[3,4],[5,6]])\n",
    "\n",
    "print(data3.shape)# 维度\n",
    "with tf.Session() as sess:\n",
    "    print(sess.run(data3))#打印整体\n",
    "    print(sess.run(data3[0]))#打印某行\n",
    "    print(sess.run(data3[:,0]))#打印某列\n",
    "    print(sess.run(data3[0,1]))#打印某坐标\n"
   ]
  },
  {
   "cell_type": "code",
   "execution_count": null,
   "metadata": {},
   "outputs": [],
   "source": []
  }
 ],
 "metadata": {
  "kernelspec": {
   "display_name": "Python 3",
   "language": "python",
   "name": "python3"
  },
  "language_info": {
   "codemirror_mode": {
    "name": "ipython",
    "version": 3
   },
   "file_extension": ".py",
   "mimetype": "text/x-python",
   "name": "python",
   "nbconvert_exporter": "python",
   "pygments_lexer": "ipython3",
   "version": "3.6.6"
  }
 },
 "nbformat": 4,
 "nbformat_minor": 2
}
