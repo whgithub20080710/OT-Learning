{
 "cells": [
  {
   "cell_type": "code",
   "execution_count": 11,
   "metadata": {},
   "outputs": [
    {
     "name": "stdout",
     "output_type": "stream",
     "text": [
      "[[33]]\n",
      "[[12 14]\n",
      " [18 21]]\n",
      "[[ 8  9]\n",
      " [ 9 10]]\n",
      "[array([[33]]), array([[ 8,  9],\n",
      "       [ 9, 10]])]\n"
     ]
    }
   ],
   "source": [
    "import tensorflow as tf\n",
    "\n",
    "data1 = tf.constant([[6,7]])\n",
    "data2 = tf.constant([[2],[3]])\n",
    "\n",
    "matMul = tf.matmul(data1,data2)\n",
    "matMul2 = tf.multiply(data1,data2)\n",
    "matAdd = tf.add(data1,data2)\n",
    "\n",
    "with tf.Session() as sess:\n",
    "    print(sess.run(matMul))\n",
    "    print(sess.run(matMul2))\n",
    "    print(sess.run(matAdd))\n",
    "    print(sess.run([matMul,matAdd]))"
   ]
  },
  {
   "cell_type": "code",
   "execution_count": null,
   "metadata": {},
   "outputs": [],
   "source": []
  },
  {
   "cell_type": "code",
   "execution_count": null,
   "metadata": {},
   "outputs": [],
   "source": []
  }
 ],
 "metadata": {
  "kernelspec": {
   "display_name": "Python 3",
   "language": "python",
   "name": "python3"
  },
  "language_info": {
   "codemirror_mode": {
    "name": "ipython",
    "version": 3
   },
   "file_extension": ".py",
   "mimetype": "text/x-python",
   "name": "python",
   "nbconvert_exporter": "python",
   "pygments_lexer": "ipython3",
   "version": "3.6.6"
  }
 },
 "nbformat": 4,
 "nbformat_minor": 2
}
